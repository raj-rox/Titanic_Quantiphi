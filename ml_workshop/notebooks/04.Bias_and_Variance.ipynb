{
 "cells": [
  {
   "cell_type": "markdown",
   "metadata": {},
   "source": [
    "# Bias-Variance Tradeoff"
   ]
  },
  {
   "cell_type": "markdown",
   "metadata": {},
   "source": [
    "Understanding how different sources of error lead to bias and variance helps us improve the data fitting process resulting in more accurate models.\n",
    "\n",
    "**Error due to Bias**: The error due to bias is taken as the difference between the expected (or average) prediction of our model and the correct value which we are trying to predict. Model with high bias pays very little attention to the training data and oversimplifies the model. It always leads to high error on training and test data.\n",
    "\n",
    "**Error due to Variance**: The error due to variance is taken as the variability of a model prediction for a given data point. Model with high variance pays a lot of attention to training data and does not generalize on the data which it hasn’t seen before. As a result, such models perform very well on training data but has high error rates on test data."
   ]
  },
  {
   "cell_type": "markdown",
   "metadata": {},
   "source": [
    "### Bias-Variance error visualized:\n",
    "\n",
    "\n",
    "<img src=\"./assets/Bias_Variance/graphical_visualization.png\" width=\"450\">\n",
    "\n",
    "Source: [Understanding Bias and Variance](http://scott.fortmann-roe.com/docs/BiasVariance.html)"
   ]
  },
  {
   "cell_type": "markdown",
   "metadata": {},
   "source": [
    "## Mathematical Definition\n",
    "\n",
    "If we denote the variable we are trying to predict as $Y$ and our independent variable as $X$, the linear relationship relating one to the other such as $Y=f(X)+ϵ$ where the error term $ϵ$ is random noise.\n",
    "\n",
    "<img src=\"./assets/Bias_Variance/error.png\" width=\"200\">\n",
    "\n",
    "<img src=\"./assets/Bias_Variance/breakdown.png\" width=\"300\">"
   ]
  },
  {
   "cell_type": "markdown",
   "metadata": {},
   "source": [
    "## Over-fitting and Under-fitting\n",
    "\n",
    "> Your model is **underfitting** the training data when the model performs poorly on the training data. This is because the model is unable to capture the relationship between the input examples($X$) and the target values ($Y$). Your model is **overfitting** your training data when you see that the model performs well on the training data but does not perform well on the evaluation data. This is because the model is memorizing the data it has seen and is unable to generalize to unseen examples.\n",
    "\n",
    "### Over-fitting: Causes and Remedies\n",
    "If the model is over-fitting the trainind data, use these methods to decrease over-fitting.\n",
    "\n",
    "* Increase the number of training samples.\n",
    "* Decrease the complexity of the model.\n",
    "* Increase the number of features or engineer more features.\n",
    "* Use regularization.\n",
    "\n",
    "#### **Regularization**:\n",
    "> Regularization is adding a penalty term to the objective function and control the model complexity using that penalty term. Regularization is basically a technique to cope with over-fitting which comes up in training a model on sample data.\n",
    "\n",
    "### Under-fitting: Causes and Remedies\n",
    "Poor performance on the training data could be because the model is too simple (the input features are not expressive enough) to describe the target well. Performance can be improved by increasing model flexibility/complexity.\n",
    "\n",
    "Model can be made complex by using these methods:\n",
    "* Increase the number of features or engineer more features.\n",
    "* Decrease the amount of regularization."
   ]
  },
  {
   "cell_type": "code",
   "execution_count": 1,
   "metadata": {},
   "outputs": [],
   "source": [
    "# import libraries\n",
    "import numpy as np\n",
    "import pandas as pd\n",
    "\n",
    "import matplotlib.pyplot as plt\n",
    "import seaborn as sns\n",
    "%matplotlib inline\n",
    "\n",
    "# do not display warnings in notebook \n",
    "import warnings\n",
    "warnings.filterwarnings('ignore')\n",
    "\n",
    "from sklearn.pipeline import make_pipeline\n",
    "from sklearn.linear_model import LinearRegression\n",
    "from sklearn.preprocessing import PolynomialFeatures"
   ]
  },
  {
   "cell_type": "code",
   "execution_count": 2,
   "metadata": {},
   "outputs": [],
   "source": [
    "def generating_func(x, err=0.5):\n",
    "    return np.random.normal(10 - 1. / (x + 0.1), err)"
   ]
  },
  {
   "cell_type": "code",
   "execution_count": 18,
   "metadata": {},
   "outputs": [
    {
     "data": {
      "image/png": "[encoded data removed]",
      "text/plain": [
       "<Figure size 864x252 with 4 Axes>"
      ]
     },
     "metadata": {},
     "output_type": "display_data"
    }
   ],
   "source": [
    "n_samples = 8\n",
    "\n",
    "np.random.seed(0)\n",
    "x = 10 ** np.linspace(-2, 0, n_samples)\n",
    "y = generating_func(x)\n",
    "\n",
    "x_test = np.linspace(-0.2, 1.2, 1000)\n",
    "\n",
    "titles = ['d = 1 (Under-fit; High Bias)',\n",
    "          'd = 2',\n",
    "          'd = 3',\n",
    "          'd = 6 (Over-fit; High Variance)']\n",
    "degrees = [1, 2, 3, 6]\n",
    "\n",
    "fig = plt.figure(figsize=(12, 3.5))\n",
    "fig.subplots_adjust(left=0.06, right=0.98, bottom=0.15, top=0.85, wspace=0.05)\n",
    "\n",
    "for i, d in enumerate(degrees):\n",
    "    ax = fig.add_subplot(141 + i, xticks=[], yticks=[])\n",
    "    ax.scatter(x, y, marker='x', c='k', s=50)\n",
    "\n",
    "    model = make_pipeline(PolynomialFeatures(d), LinearRegression())\n",
    "    model.fit(x[:, np.newaxis], y)\n",
    "    ax.plot(x_test, model.predict(x_test[:, np.newaxis]), '-b')\n",
    "\n",
    "    ax.set_xlim(-0.2, 1.2)\n",
    "    ax.set_ylim(0, 12)\n",
    "    ax.set_xlabel('X')\n",
    "    if i == 0:\n",
    "        ax.set_ylabel('Y')\n",
    "\n",
    "    ax.set_title(titles[i])"
   ]
  },
  {
   "cell_type": "markdown",
   "metadata": {},
   "source": [
    "## Model Selection and Bias-Variance Trade-off\n",
    "\n",
    "We can select the right complexity model in a data-driven way using **Cross-Validation**"
   ]
  },
  {
   "cell_type": "markdown",
   "metadata": {},
   "source": [
    "## Cross-Validation\n",
    "\n",
    "The error we are optimizing while training does not indicate how well the model has generalized the data or in other terms how well the model will perform on new unseen samples of the data. So while selecting model, we would like to slect the model which has lowest generalisation error. We can quantify generalization using an independent sample of data which is not a part of training samples. This independent sample is called **Validation Set**.\n",
    "\n",
    "### Validation Set:\n",
    "\n",
    "The $n$ available data points, ${(X_{1}, y_{1}), (X_{2}, y_{2}) .. (X_{n}, y_{n})}$ will be split this into training dataset $D_{T}$ and validation dataset $D_{v}$. \n",
    "* Use $D_{T}$ for training predictor models(Models with varying complexity).\n",
    "* Use $D_{v}$ for selecting model which has lowest error on $D_{v}$.\n",
    "\n",
    "### K-fold Cross-Validation:\n",
    "\n",
    "* Create $K$ fold partition of the dataset.\n",
    "* From the partitioned dataset, use $K-1$ folds for training and $1$ fold as validation set. Train $K$ predictor models.\n",
    "* From the $K$ predictor models, select the one with lowest validation error.\n",
    "\n",
    "### Repeated K-fold Cross-Validation:\n",
    "\n",
    "* The $K$-fold cross-validation is repeated $n$ times so that each time we get a different split for the validation.\n",
    "* Shuffling the dataset before splitting into $K$ folds is necessary as it produces different split everytime."
   ]
  }
 ],
 "metadata": {
  "kernelspec": {
   "display_name": "Python 3",
   "language": "python",
   "name": "python3"
  },
  "language_info": {
   "codemirror_mode": {
    "name": "ipython",
    "version": 3
   },
   "file_extension": ".py",
   "mimetype": "text/x-python",
   "name": "python",
   "nbconvert_exporter": "python",
   "pygments_lexer": "ipython3",
   "version": "3.7.0"
  }
 },
 "nbformat": 4,
 "nbformat_minor": 2
}
